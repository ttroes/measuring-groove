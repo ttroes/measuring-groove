{
 "cells": [
  {
   "cell_type": "code",
   "execution_count": 1,
   "metadata": {
    "collapsed": true
   },
   "outputs": [],
   "source": [
    "%matplotlib inline\n",
    "import numpy as np\n",
    "import scipy\n",
    "import matplotlib.pyplot as plt\n",
    "import IPython.display\n",
    "import essentia\n",
    "import essentia.standard as es\n",
    "import librosa\n",
    "import librosa.display\n",
    "from collections import Counter\n",
    "from utils import *"
   ]
  },
  {
   "cell_type": "code",
   "execution_count": 6,
   "metadata": {
    "collapsed": false
   },
   "outputs": [],
   "source": [
    "for file in os.listdir('sounds/'):\n",
    "    beats = []\n",
    "    beats_list = []\n",
    "    onsets = []\n",
    "    v = []\n",
    "    sum_beats = []\n",
    "    drift = []\n",
    "    drift2 = []\n",
    "    xlabel = []\n",
    "    \n",
    "    if '.wav' not in file: continue\n",
    "    filename = file\n",
    "    load_file = 'sounds/' + filename  \n",
    "    \n",
    "    # load audio \n",
    "    loader = es.MonoLoader(filename=load_file)\n",
    "    audio = loader()\n",
    "\n",
    "    # read onsets\n",
    "    read_onset = 'onsets/' + 'onset.' + filename[:-3] + 'csv'\n",
    "    onsets = np.genfromtxt(read_onset)\n",
    "\n",
    "    # find beats\n",
    "    bt = es.BeatTrackerMultiFeature()\n",
    "    beats, _ = bt(audio)\n",
    "\n",
    "    # set of interonset intervals\n",
    "    beats_list = np.ndarray.tolist(beats)\n",
    "    v = [beats_list[i+1]-beats_list[i] for i in range(len(beats_list)-1)]\n",
    "\n",
    "    # calculate drift\n",
    "    sum_beats = np.cumsum(v)\n",
    "    rho = np.mean(v)\n",
    "\n",
    "    for i in range(len(sum_beats)):\n",
    "        a = sum_beats[i] - i * rho\n",
    "        drift.append(a)\n",
    "\n",
    "    # calculate drift with reference to 0 --- mean of drift a good idea?    \n",
    "    #for i in range(len(drift)):\n",
    "    #    b = drift[i] - np.mean(drift)\n",
    "    #    drift2.append(b)\n",
    "        \n",
    "    #xticks\n",
    "    sum_beats = np.cumsum(v)\n",
    "    \n",
    "    for i in range(len(sum_beats)):\n",
    "        c = beats[i]  #is this correct????\n",
    "        xlabel.append(c)\n",
    "        \n",
    "    # plot\n",
    "    plt.plot(xlabel, drift)\n",
    "    plt.ylim(0,1)\n",
    "    plt.xlabel('seconds')\n",
    "    plt.ylabel('drift')\n",
    "    title = 'drummer1.' + filename[:-4]\n",
    "    plt.title(title)\n",
    "    \n",
    "    # save plot to folder 'drift'\n",
    "    figure = 'drift/drift_withoutreference_01/' + title +'.jpg'\n",
    "    plt.savefig(figure)\n",
    "    plt.close()"
   ]
  },
  {
   "cell_type": "code",
   "execution_count": 36,
   "metadata": {
    "collapsed": false
   },
   "outputs": [],
   "source": [
    "''''\n",
    "# rhythm extractor\n",
    "avg_bpm, beat_start, confidence, tempo, beat_duration = es.RhythmExtractor2013(method='multifeature')(audio)\n",
    "beats2_list = np.ndarray.tolist(beat_start)\n",
    "t = [abs(beats2_list[i+1]-beats2_list[i]) for i in range(len(beats2_list)-1)]"
   ]
  }
 ],
 "metadata": {
  "kernelspec": {
   "display_name": "Python 2",
   "language": "python",
   "name": "python2"
  },
  "language_info": {
   "codemirror_mode": {
    "name": "ipython",
    "version": 2
   },
   "file_extension": ".py",
   "mimetype": "text/x-python",
   "name": "python",
   "nbconvert_exporter": "python",
   "pygments_lexer": "ipython2",
   "version": "2.7.6"
  }
 },
 "nbformat": 4,
 "nbformat_minor": 2
}
