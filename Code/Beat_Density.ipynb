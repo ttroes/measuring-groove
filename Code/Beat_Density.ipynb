{
 "cells": [
  {
   "cell_type": "code",
   "execution_count": 1,
   "metadata": {
    "collapsed": true
   },
   "outputs": [],
   "source": [
    "# a first implementation of an \"event density\" descriptor as proposed by Madison et al. in their paper 'Modeling the Tendency for Music to Induce Movement in Humans'\n",
    "\n",
    "import essentia \n",
    "from essentia.standard import *\n",
    "from essentia import Pool\n",
    "import os\n",
    "import matplotlib.pyplot as plt\n",
    "import numpy as np\n",
    "import csv"
   ]
  },
  {
   "cell_type": "code",
   "execution_count": null,
   "metadata": {
    "collapsed": false
   },
   "outputs": [
    {
     "name": "stderr",
     "output_type": "stream",
     "text": [
      "/usr/local/lib/python2.7/dist-packages/numpy/core/fromnumeric.py:2889: RuntimeWarning: Mean of empty slice.\n",
      "  out=out, **kwargs)\n",
      "/usr/local/lib/python2.7/dist-packages/numpy/core/_methods.py:80: RuntimeWarning: invalid value encountered in double_scalars\n",
      "  ret = ret.dtype.type(ret / rcount)\n"
     ]
    }
   ],
   "source": [
    "with open('event_density.csv', 'wb') as csvfile:\n",
    "    spamwriter = csv.writer(csvfile, delimiter=',')\n",
    "    i = -3\n",
    "    \n",
    "    for file in os.listdir('sounds/drummer2/'):\n",
    "\n",
    "        beats=[]\n",
    "        sl = []\n",
    "        energy_var = []\n",
    "        beat_energy =[]\n",
    "        beat_density = []\n",
    "\n",
    "        if '.wav' not in file: continue\n",
    "        filename = file\n",
    "        load_file = 'sounds/drummer2/' + filename  \n",
    "\n",
    "        # load audio \n",
    "        loader = MonoLoader(filename=load_file)\n",
    "        audio = loader()\n",
    "\n",
    "        #tracking beats\n",
    "        bt = BeatTrackerMultiFeature()\n",
    "        beats, _ = bt(audio)\n",
    "\n",
    "        #audio segmentation into beats\n",
    "\n",
    "        for i in range(len(beats)-2):\n",
    "            segStart = int(beats[i] * 44100)\n",
    "            segEnd = int(beats[i+1]*44100)\n",
    "            sl.append(audio[segStart:segEnd])\n",
    "\n",
    "        # energy variance on beat segments\n",
    "        energy = Energy()\n",
    "\n",
    "        for i in range(len(beats)-2):\n",
    "            beat_energy = energy(sl[i])\n",
    "            energy_var.append(beat_energy)\n",
    "\n",
    "        # mean of energy variance:\n",
    "        beat_density = np.mean(energy_var)\n",
    "        i += 1\n",
    "        spamwriter.writerow([filename, beat_density])"
   ]
  },
  {
   "cell_type": "code",
   "execution_count": 9,
   "metadata": {
    "collapsed": false
   },
   "outputs": [
    {
     "ename": "TypeError",
     "evalue": "object of type 'numpy.float64' has no len()",
     "output_type": "error",
     "traceback": [
      "\u001b[0;31m----------------------------------------------------\u001b[0m",
      "\u001b[0;31mTypeError\u001b[0m          Traceback (most recent call last)",
      "\u001b[0;32m<ipython-input-9-f571e95c73d7>\u001b[0m in \u001b[0;36m<module>\u001b[0;34m()\u001b[0m\n\u001b[0;32m----> 1\u001b[0;31m \u001b[0;32mfor\u001b[0m \u001b[0mi\u001b[0m \u001b[0;32min\u001b[0m \u001b[0mrange\u001b[0m\u001b[0;34m(\u001b[0m\u001b[0mlen\u001b[0m\u001b[0;34m(\u001b[0m\u001b[0mbeat_density\u001b[0m\u001b[0;34m)\u001b[0m\u001b[0;34m)\u001b[0m\u001b[0;34m:\u001b[0m\u001b[0;34m\u001b[0m\u001b[0m\n\u001b[0m\u001b[1;32m      2\u001b[0m     \u001b[0;32mprint\u001b[0m \u001b[0mbeat_density\u001b[0m\u001b[0;34m[\u001b[0m\u001b[0mi\u001b[0m\u001b[0;34m]\u001b[0m\u001b[0;34m\u001b[0m\u001b[0m\n\u001b[1;32m      3\u001b[0m     \u001b[0;32mprint\u001b[0m \u001b[0;34m'\\n'\u001b[0m\u001b[0;34m\u001b[0m\u001b[0m\n",
      "\u001b[0;31mTypeError\u001b[0m: object of type 'numpy.float64' has no len()"
     ]
    }
   ],
   "source": [
    "for i in range(len(beat_density)):\n",
    "    print beat_density[i]\n",
    "    print '\\n'"
   ]
  },
  {
   "cell_type": "code",
   "execution_count": 11,
   "metadata": {
    "collapsed": false
   },
   "outputs": [
    {
     "data": {
      "text/plain": [
       "1720.3557249903679"
      ]
     },
     "execution_count": 11,
     "metadata": {},
     "output_type": "execute_result"
    }
   ],
   "source": [
    "046_phrase_rock_complex_medium_rods.wav"
   ]
  },
  {
   "cell_type": "code",
   "execution_count": 19,
   "metadata": {
    "collapsed": true
   },
   "outputs": [],
   "source": [
    "#loading audio file\n",
    "name = 'sounds/drummer1/046_phrase_rock_complex_medium_rods.wav'\n",
    "loader1 = MonoLoader(filename = name) \n",
    "audio = loader1()\n",
    "\n",
    "#tracking beats\n",
    "bt = BeatTrackerMultiFeature()\n",
    "beats, _ = bt(audio)\n",
    "\n",
    "#audio segmentation into beats\n",
    "sl = []\n",
    "for i in range(len(beats)-2):\n",
    "\tsegStart = int(beats[i] * 44100)\n",
    "\tsegEnd = int(beats[i+1]*44100)\n",
    "\tsl.append(audio[segStart:segEnd])\n",
    "\n",
    "# energy variance on beat segments\n",
    "energy = Energy()\n",
    "energy_var = []\n",
    "for i in range(len(beats)-2):\n",
    "\tbeat_energy = energy(sl[i])\n",
    "\tenergy_var.append(beat_energy)\n",
    "\t\n",
    "# mean of energy variance:\n",
    "beat_density = np.mean(energy_var)"
   ]
  },
  {
   "cell_type": "code",
   "execution_count": 20,
   "metadata": {
    "collapsed": false
   },
   "outputs": [
    {
     "data": {
      "text/plain": [
       "1720.3557249903679"
      ]
     },
     "execution_count": 20,
     "metadata": {},
     "output_type": "execute_result"
    }
   ],
   "source": [
    "beat_density"
   ]
  },
  {
   "cell_type": "code",
   "execution_count": null,
   "metadata": {
    "collapsed": true
   },
   "outputs": [],
   "source": []
  }
 ],
 "metadata": {
  "kernelspec": {
   "display_name": "Python 2",
   "language": "python",
   "name": "python2"
  },
  "language_info": {
   "codemirror_mode": {
    "name": "ipython",
    "version": 2
   },
   "file_extension": ".py",
   "mimetype": "text/x-python",
   "name": "python",
   "nbconvert_exporter": "python",
   "pygments_lexer": "ipython2",
   "version": "2.7.6"
  }
 },
 "nbformat": 4,
 "nbformat_minor": 2
}
