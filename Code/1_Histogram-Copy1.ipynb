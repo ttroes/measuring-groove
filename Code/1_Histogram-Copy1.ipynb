{
 "cells": [
  {
   "cell_type": "markdown",
   "metadata": {},
   "source": [
    "# Visualisation data for drummer one: phrases 36 - 89"
   ]
  },
  {
   "cell_type": "code",
   "execution_count": 1,
   "metadata": {
    "collapsed": true
   },
   "outputs": [],
   "source": [
    "%matplotlib inline\n",
    "import numpy as np\n",
    "import scipy\n",
    "import matplotlib.pyplot as plt\n",
    "import IPython.display\n",
    "import essentia\n",
    "import essentia.standard as es\n",
    "import librosa\n",
    "import librosa.display\n",
    "import pandas as pd\n",
    "from collections import Counter\n",
    "import os\n",
    "import pandas as pd\n",
    "from utils import *"
   ]
  },
  {
   "cell_type": "code",
   "execution_count": 2,
   "metadata": {
    "collapsed": true
   },
   "outputs": [],
   "source": [
    "# for f in *.csv; do cut -d' ' -f2 --complement $f > onset.$f; done\n",
    "# cut out annotations and reduce csv-file to one row"
   ]
  },
  {
   "cell_type": "code",
   "execution_count": 94,
   "metadata": {
    "collapsed": false
   },
   "outputs": [],
   "source": [
    "beat_outliers = []\n",
    "beats = []\n",
    "devs = []"
   ]
  },
  {
   "cell_type": "code",
   "execution_count": 112,
   "metadata": {
    "collapsed": false,
    "scrolled": true
   },
   "outputs": [
    {
     "name": "stderr",
     "output_type": "stream",
     "text": [
      "/usr/local/lib/python2.7/dist-packages/ipykernel/__main__.py:55: UserWarning: genfromtxt: Empty input file: \"onsets/cymbals/onset.cymbals.071_phrase_shuffle-blues_complex_fast_brushes.csv\"\n"
     ]
    },
    {
     "ename": "ValueError",
     "evalue": "need more than 0 values to unpack",
     "output_type": "error",
     "traceback": [
      "\u001b[0;31m---------------------------------------------------------------------------\u001b[0m",
      "\u001b[0;31mValueError\u001b[0m                                Traceback (most recent call last)",
      "\u001b[0;32m<ipython-input-112-0d3c957d2df8>\u001b[0m in \u001b[0;36m<module>\u001b[0;34m()\u001b[0m\n\u001b[1;32m     68\u001b[0m         \u001b[0mdevs2\u001b[0m\u001b[0;34m.\u001b[0m\u001b[0mappend\u001b[0m\u001b[0;34m(\u001b[0m\u001b[0mnearestNeighbour\u001b[0m\u001b[0;34m(\u001b[0m\u001b[0monset\u001b[0m\u001b[0;34m,\u001b[0m \u001b[0midealSixteenths\u001b[0m\u001b[0;34m)\u001b[0m\u001b[0;34m)\u001b[0m\u001b[0;34m\u001b[0m\u001b[0m\n\u001b[1;32m     69\u001b[0m \u001b[0;34m\u001b[0m\u001b[0m\n\u001b[0;32m---> 70\u001b[0;31m     \u001b[0mlist1\u001b[0m\u001b[0;34m,\u001b[0m \u001b[0mlist2\u001b[0m \u001b[0;34m=\u001b[0m \u001b[0mzip\u001b[0m\u001b[0;34m(\u001b[0m\u001b[0;34m*\u001b[0m\u001b[0mdevs\u001b[0m\u001b[0;34m)\u001b[0m\u001b[0;34m\u001b[0m\u001b[0m\n\u001b[0m\u001b[1;32m     71\u001b[0m     \u001b[0mlist3\u001b[0m\u001b[0;34m,\u001b[0m \u001b[0mlist4\u001b[0m \u001b[0;34m=\u001b[0m \u001b[0mzip\u001b[0m\u001b[0;34m(\u001b[0m\u001b[0;34m*\u001b[0m\u001b[0mdevs2\u001b[0m\u001b[0;34m)\u001b[0m\u001b[0;34m\u001b[0m\u001b[0m\n\u001b[1;32m     72\u001b[0m     \u001b[0mplt\u001b[0m\u001b[0;34m.\u001b[0m\u001b[0mxlim\u001b[0m\u001b[0;34m(\u001b[0m\u001b[0;34m-\u001b[0m\u001b[0;36m0.1\u001b[0m\u001b[0;34m,\u001b[0m \u001b[0;36m0.1\u001b[0m\u001b[0;34m)\u001b[0m\u001b[0;34m\u001b[0m\u001b[0m\n",
      "\u001b[0;31mValueError\u001b[0m: need more than 0 values to unpack"
     ]
    }
   ],
   "source": [
    "for file in os.listdir('sounds/'):\n",
    "    \n",
    "    devs = []\n",
    "    devs2 = []\n",
    "    beats=[]\n",
    "    onsets2 = []\n",
    "    idealSixteenths = []\n",
    "    init_beat = []\n",
    "    end_beat = []\n",
    "    \n",
    "    if '.wav' not in file: continue\n",
    "    filename = file\n",
    "    load_file = 'sounds/' + filename  \n",
    "    \n",
    "    # load audio \n",
    "    loader = es.MonoLoader(filename=load_file)\n",
    "    audio = loader()\n",
    "\n",
    "    # find beats\n",
    "    bt = es.BeatTrackerMultiFeature()\n",
    "    beats, _ = bt(audio)\n",
    "\n",
    "    # create metrical grid:\n",
    "    a = len(beats) - 1\n",
    "    init_beat = beats[0]\n",
    "    end_beat = beats[a]\n",
    "\n",
    "    # equally spaced lines\n",
    "    ids_range = len(beats)*4\n",
    "    idealSixteenths = np.linspace(init_beat, end_beat, ids_range)\n",
    "\n",
    "    #file = filename\n",
    "    #filejpg = 'plots/'+'plot.' + file[:-3] + 'png'\n",
    "\n",
    "    #fs=44100\n",
    "    #t = np.arange(len(audio))/float(fs)\n",
    "    #plt.plot(t, audio)\n",
    "    #for loc in idealSixteenths:\n",
    "    #    plt.axvline(x=loc, color='y')\n",
    "    #for i in range(len(beats)):\n",
    "    #    plt.axvline(idealSixteenths[4*i], color = 'r')\n",
    "\n",
    "    #title = file[:-4] \n",
    "    #plt.title(title)\n",
    "    #plt.xlabel('time')\n",
    "    #plt.ylabel('audio')\n",
    "    #plt.savefig(filejpg)\n",
    "    #plt.close()\n",
    "\n",
    "    # save metrical grid to file\n",
    "    # should be used for later analysis of the instruments\n",
    "\n",
    "    # read annotated onsets from csv-file\n",
    "    read_onset = 'onsets/cymbals/' + 'onset.cymbals.' + filename[:-3] + 'csv'\n",
    "    onsets = np.genfromtxt(read_onset)\n",
    "\n",
    "\n",
    "    # find nearest neighbour\n",
    "    for onset in onsets:\n",
    "        devs.append(nearestNeighbour(onset, idealSixteenths))\n",
    "\n",
    "    read_onset2 = 'onsets/hihat/' + 'onset.hihat.' + filename[:-3] + 'csv'\n",
    "    onsets2 = np.genfromtxt(read_onset2)\n",
    "\n",
    "    # find nearest neighbour\n",
    "\n",
    "    for onset in onsets2:\n",
    "        devs2.append(nearestNeighbour(onset, idealSixteenths))\n",
    "        \n",
    "    list1, list2 = zip(*devs) \n",
    "    list3, list4 = zip(*devs2) \n",
    "    plt.xlim(-0.1, 0.1)\n",
    "    plt.plot(list2,list1,'o', c='blue')\n",
    "    plt.plot(list4,list3,'x', c='red')\n",
    "    plt.savefig('hihatvscymbal/' + filename[:-3] + 'jpg')\n",
    "    plt.close()\n",
    "\n",
    "    # print devs\n",
    "    \n",
    "    # see amount of onsets per ideal sixteenths:\n",
    "    # Counter(elem[0] for elem in devs)"
   ]
  },
  {
   "cell_type": "code",
   "execution_count": 97,
   "metadata": {
    "collapsed": false
   },
   "outputs": [
    {
     "data": {
      "text/plain": [
       "[<matplotlib.lines.Line2D at 0xa8feb86c>]"
      ]
     },
     "execution_count": 97,
     "metadata": {},
     "output_type": "execute_result"
    },
    {
     "data": {
      "image/png": "[encoded data removed]",
      "text/plain": [
       "<matplotlib.figure.Figure at 0xa8feb5cc>"
      ]
     },
     "metadata": {},
     "output_type": "display_data"
    }
   ],
   "source": [
    "list1, list2 = zip(*devs) \n",
    "list3, list4 = zip(*devs2) \n",
    "plt.plot(list2,list1,'o', c='blue')\n",
    "plt.plot(list4,list3,'x', c='red')\n",
    "#plt.savefig(filename[:-3] + 'jpg')\n",
    "#plt.close()"
   ]
  },
  {
   "cell_type": "code",
   "execution_count": 106,
   "metadata": {
    "collapsed": false
   },
   "outputs": [],
   "source": [
    "def nearestNeighbour(targetValue, vector):\n",
    "    minIndex = 0\n",
    "    minDiff = targetValue - vector[0]\n",
    "    minAbsDiff = abs(minDiff)\n",
    "\n",
    "    for index, value in enumerate(vector):\n",
    "        diff = targetValue - value\n",
    "        absDiff = abs(diff)\n",
    "        if absDiff < minAbsDiff:\n",
    "            minIndex = index\n",
    "            minDiff = diff\n",
    "            minAbsDiff = absDiff\n",
    "    minDiff = \"%.3f\" %minDiff #reduce to three decimals\n",
    "    minIndex= 1 + minIndex %16 #to reduce all deviations into one bar\n",
    "    return float(minIndex), float(minDiff)"
   ]
  },
  {
   "cell_type": "code",
   "execution_count": 54,
   "metadata": {
    "collapsed": false
   },
   "outputs": [],
   "source": [
    "ids_one = [item for item in devs if item[0] == 1]\n",
    "ids_two = [item for item in devs if item[0] == 2]\n",
    "ids_three = [item for item in devs if item[0] == 3]\n",
    "ids_four = [item for item in devs if item[0] == 4]\n",
    "ids_five = [item for item in devs if item[0] == 5]\n",
    "ids_six = [item for item in devs if item[0] == 6]\n",
    "ids_seven = [item for item in devs if item[0] == 7]\n",
    "ids_eight = [item for item in devs if item[0] == 8]\n",
    "ids_nine = [item for item in devs if item[0] == 9]\n",
    "ids_ten = [item for item in devs if item[0] == 10]\n",
    "ids_eleven = [item for item in devs if item[0] == 11]\n",
    "ids_twelve = [item for item in devs if item[0] == 12]\n",
    "ids_thirteen = [item for item in devs if item[0] == 13]\n",
    "ids_fourteen = [item for item in devs if item[0] == 14]\n",
    "ids_fifteen = [item for item in devs if item[0] == 15]\n",
    "ids_sixteen = [item for item in devs if item[0] == 16]\n",
    "\n",
    "c_one = Counter(elem[1] for elem in ids_one)\n",
    "c_two = Counter(elem[1] for elem in ids_two)\n",
    "c_three = Counter(elem[1] for elem in ids_three)\n",
    "c_four = Counter(elem[1] for elem in ids_four)\n",
    "c_five = Counter(elem[1] for elem in ids_five)\n",
    "c_six = Counter(elem[1] for elem in ids_six)\n",
    "c_seven = Counter(elem[1] for elem in ids_seven)\n",
    "c_eight = Counter(elem[1] for elem in ids_eight)\n",
    "c_nine = Counter(elem[1] for elem in ids_nine)\n",
    "c_ten = Counter(elem[1] for elem in ids_ten)\n",
    "c_eleven = Counter(elem[1] for elem in ids_eleven)\n",
    "c_twelve = Counter(elem[1] for elem in ids_twelve)\n",
    "c_thirteen = Counter(elem[1] for elem in ids_thirteen)\n",
    "c_fourteen = Counter(elem[1] for elem in ids_fourteen)\n",
    "c_fifteen = Counter(elem[1] for elem in ids_fifteen)\n",
    "c_sixteen = Counter(elem[1] for elem in ids_sixteen)"
   ]
  },
  {
   "cell_type": "code",
   "execution_count": 13,
   "metadata": {
    "collapsed": false
   },
   "outputs": [],
   "source": [
    "def heatmap_count(var1):\n",
    "    countername = []\n",
    "    elements = []\n",
    "    for elem in var1:\n",
    "        c = elem[1]\n",
    "        elements.append(c)\n",
    "    elements2 = []\n",
    "    for elem in var1:\n",
    "        d = elem[0]\n",
    "        elements2.append(d)\n",
    "    a = [-0.100, -0.090, -0.080, -0.070, -0.060, -0.050, -0.040, -0.030, -0.020, -0.010, -0.005, 0, 0.005, 0.010, 0.020, 0.030, 0.040, 0.050, 0.060, 0.070, 0.080, 0.090, 0.100]\n",
    "    lista = []\n",
    "    for myNumber in elements:\n",
    "        b = min(a, key = lambda x:abs(x-myNumber))\n",
    "        b = \"%.3f\" %b\n",
    "        lista.append(float(b))\n",
    "    \n",
    "    lista = sorted(lista)\n",
    "    countername = Counter(lista)\n",
    "    print countername[-0.100]\n",
    "    print countername[-0.09]\n",
    "    print countername[-0.08]\n",
    "    print countername[-0.07]\n",
    "    print countername[-0.06]\n",
    "    print countername[-0.05]\n",
    "    print countername[-0.04]\n",
    "    print countername[-0.03]\n",
    "    print countername[-0.02]\n",
    "    print countername[-0.01]\n",
    "    print countername[-0.005]\n",
    "    print countername[0]\n",
    "    print countername[0.005]\n",
    "    print countername[0.01]\n",
    "    print countername[0.02]\n",
    "    print countername[0.03]\n",
    "    print countername[0.04]\n",
    "    print countername[0.05]\n",
    "    print countername[0.06]\n",
    "    print countername[0.07]\n",
    "    print countername[0.08]\n",
    "    print countername[0.09]\n",
    "    print countername[0.1]    "
   ]
  },
  {
   "cell_type": "code",
   "execution_count": 70,
   "metadata": {
    "collapsed": false,
    "scrolled": false
   },
   "outputs": [
    {
     "name": "stdout",
     "output_type": "stream",
     "text": [
      "0\n",
      "0\n",
      "1\n",
      "0\n",
      "3\n",
      "0\n",
      "3\n",
      "0\n",
      "4\n",
      "0\n",
      "0\n",
      "2\n",
      "0\n",
      "3\n",
      "1\n",
      "2\n",
      "4\n",
      "3\n",
      "0\n",
      "0\n",
      "0\n",
      "0\n",
      "0\n"
     ]
    }
   ],
   "source": [
    "heatmap_count(ids_fifteen)"
   ]
  },
  {
   "cell_type": "markdown",
   "metadata": {},
   "source": [
    "# #1 BASS DRUM "
   ]
  },
  {
   "cell_type": "code",
   "execution_count": 414,
   "metadata": {
    "collapsed": false
   },
   "outputs": [],
   "source": [
    "#ids_one, ids_two, ids_three, ids_four, ids_five, ids_six, ids_seven, ids_eight, ids_nine, ids_ten, ids_eleven, ids_twelve, ids_thirteen, ids_fourteen, ids_fifteen, ids_sixteen = []\n",
    "beats = []\n",
    "devs = []\n",
    "#c_one,c_two,c_three,c_four,c_five,c_six,c_seven,c_eight,c_nine,c_ten,c_eleven,c_twelve,c_thirteen,c_fourteen,c_fifteen,c_sixteen = []"
   ]
  },
  {
   "cell_type": "code",
   "execution_count": 415,
   "metadata": {
    "collapsed": false,
    "scrolled": true
   },
   "outputs": [
    {
     "name": "stderr",
     "output_type": "stream",
     "text": [
      "/usr/local/lib/python2.7/dist-packages/ipykernel/__main__.py:31: UserWarning: genfromtxt: Empty input file: \"onsets/bass/onset.bass.061_phrase_salsa_simple_medium_sticks.csv\"\n",
      "/usr/local/lib/python2.7/dist-packages/ipykernel/__main__.py:31: UserWarning: genfromtxt: Empty input file: \"onsets/bass/onset.bass.048_phrase_afro_simple_slow_mallets.csv\"\n",
      "/usr/local/lib/python2.7/dist-packages/ipykernel/__main__.py:31: UserWarning: genfromtxt: Empty input file: \"onsets/bass/onset.bass.062_phrase_salsa_simple_fast_sticks.csv\"\n",
      "/usr/local/lib/python2.7/dist-packages/ipykernel/__main__.py:31: UserWarning: genfromtxt: Empty input file: \"onsets/bass/onset.bass.085_phrase_waltz_simple_medium_brushes.csv\"\n",
      "/usr/local/lib/python2.7/dist-packages/ipykernel/__main__.py:31: UserWarning: genfromtxt: Empty input file: \"onsets/bass/onset.bass.084_phrase_waltz_simple_slow_brushes.csv\"\n",
      "/usr/local/lib/python2.7/dist-packages/ipykernel/__main__.py:31: UserWarning: genfromtxt: Empty input file: \"onsets/bass/onset.bass.060_phrase_salsa_simple_slow_sticks.csv\"\n",
      "/usr/local/lib/python2.7/dist-packages/ipykernel/__main__.py:31: UserWarning: genfromtxt: Empty input file: \"onsets/bass/onset.bass.049_phrase_afro_simple_medium_mallets.csv\"\n"
     ]
    }
   ],
   "source": [
    "for file in os.listdir('sounds/drummer1/salsa'):\n",
    "\n",
    "    beats=[]\n",
    "    idealSixteenths = []\n",
    "    init_beat = []\n",
    "    end_beat = []\n",
    "    \n",
    "    if '.wav' not in file: continue\n",
    "    filename = file\n",
    "    load_file = 'sounds/' + filename  \n",
    "    \n",
    "    # load audio \n",
    "    loader = es.MonoLoader(filename=load_file)\n",
    "    audio = loader()\n",
    "\n",
    "    # find beats\n",
    "    bt = es.BeatTrackerMultiFeature()\n",
    "    beats, _ = bt(audio)\n",
    "\n",
    "    # create metrical grid:\n",
    "    a = len(beats) - 1\n",
    "    init_beat = beats[0]\n",
    "    end_beat = beats[a]\n",
    "\n",
    "    # equally spaced lines\n",
    "    ids_range = len(beats)*4\n",
    "    idealSixteenths = np.linspace(init_beat, end_beat, ids_range)\n",
    "\n",
    "    # read annotated onsets from csv-file\n",
    "    read_onset = 'onsets/bass/' + 'onset.bass.' + filename[:-3] + 'csv'\n",
    "    onsets = np.genfromtxt(read_onset)\n",
    "\n",
    "    # find nearest neighbour\n",
    "\n",
    "    for onset in onsets:\n",
    "        devs.append(nearestNeighbour(onset, idealSixteenths))\n",
    "\n",
    "    # print devs\n",
    "    \n",
    "    # see amount of onsets per ideal sixteenths:\n",
    "    # Counter(elem[0] for elem in devs)"
   ]
  },
  {
   "cell_type": "code",
   "execution_count": 416,
   "metadata": {
    "collapsed": true
   },
   "outputs": [],
   "source": [
    "# note down which song doesn't have input!!"
   ]
  },
  {
   "cell_type": "code",
   "execution_count": 417,
   "metadata": {
    "collapsed": true
   },
   "outputs": [],
   "source": [
    "# do I have to declare them as empty arrays before running the code again?\n",
    "\n",
    "ids_one = [item for item in devs if item[0] == 1]\n",
    "ids_two = [item for item in devs if item[0] == 2]\n",
    "ids_three = [item for item in devs if item[0] == 3]\n",
    "ids_four = [item for item in devs if item[0] == 4]\n",
    "ids_five = [item for item in devs if item[0] == 5]\n",
    "ids_six = [item for item in devs if item[0] == 6]\n",
    "ids_seven = [item for item in devs if item[0] == 7]\n",
    "ids_eight = [item for item in devs if item[0] == 8]\n",
    "ids_nine = [item for item in devs if item[0] == 9]\n",
    "ids_ten = [item for item in devs if item[0] == 10]\n",
    "ids_eleven = [item for item in devs if item[0] == 11]\n",
    "ids_twelve = [item for item in devs if item[0] == 12]\n",
    "ids_thirteen = [item for item in devs if item[0] == 13]\n",
    "ids_fourteen = [item for item in devs if item[0] == 14]\n",
    "ids_fifteen = [item for item in devs if item[0] == 15]\n",
    "ids_sixteen = [item for item in devs if item[0] == 16]\n",
    "\n",
    "c_one = Counter(elem[1] for elem in ids_one)\n",
    "c_two = Counter(elem[1] for elem in ids_two)\n",
    "c_three = Counter(elem[1] for elem in ids_three)\n",
    "c_four = Counter(elem[1] for elem in ids_four)\n",
    "c_five = Counter(elem[1] for elem in ids_five)\n",
    "c_six = Counter(elem[1] for elem in ids_six)\n",
    "c_seven = Counter(elem[1] for elem in ids_seven)\n",
    "c_eight = Counter(elem[1] for elem in ids_eight)\n",
    "c_nine = Counter(elem[1] for elem in ids_nine)\n",
    "c_ten = Counter(elem[1] for elem in ids_ten)\n",
    "c_eleven = Counter(elem[1] for elem in ids_eleven)\n",
    "c_twelve = Counter(elem[1] for elem in ids_twelve)\n",
    "c_thirteen = Counter(elem[1] for elem in ids_thirteen)\n",
    "c_fourteen = Counter(elem[1] for elem in ids_fourteen)\n",
    "c_fifteen = Counter(elem[1] for elem in ids_fifteen)\n",
    "c_sixteen = Counter(elem[1] for elem in ids_sixteen)"
   ]
  },
  {
   "cell_type": "code",
   "execution_count": 438,
   "metadata": {
    "collapsed": false
   },
   "outputs": [
    {
     "data": {
      "text/plain": [
       "Counter({-0.08: 1,\n",
       "         -0.07: 2,\n",
       "         -0.05: 3,\n",
       "         -0.03: 3,\n",
       "         -0.02: 5,\n",
       "         -0.01: 4,\n",
       "         -0.005: 3,\n",
       "         0.0: 3,\n",
       "         0.005: 1,\n",
       "         0.01: 2,\n",
       "         0.02: 1,\n",
       "         0.03: 3,\n",
       "         0.04: 3,\n",
       "         0.05: 1,\n",
       "         0.08: 1})"
      ]
     },
     "execution_count": 438,
     "metadata": {},
     "output_type": "execute_result"
    }
   ],
   "source": [
    "heatmap_count(ids_one, ids_two, ids_three, ids_four)"
   ]
  },
  {
   "cell_type": "markdown",
   "metadata": {},
   "source": [
    "# #2: SNARE (and co.)"
   ]
  },
  {
   "cell_type": "code",
   "execution_count": 88,
   "metadata": {
    "collapsed": true
   },
   "outputs": [],
   "source": [
    "# for f in *.csv; do grep -E 'sweep|sticks|sd|rs|cs' $f > test.$f; done \n",
    "# for f in *.csv; do cut -d' ' -f2 --complement $f > onset.$f; done"
   ]
  },
  {
   "cell_type": "code",
   "execution_count": 439,
   "metadata": {
    "collapsed": false
   },
   "outputs": [
    {
     "name": "stderr",
     "output_type": "stream",
     "text": [
      "/usr/local/lib/python2.7/dist-packages/ipykernel/__main__.py:33: UserWarning: genfromtxt: Empty input file: \"onsets/snare/onset.snare.048_phrase_afro_simple_slow_mallets.csv\"\n"
     ]
    }
   ],
   "source": [
    "beat = []\n",
    "devs = []\n",
    "for file in os.listdir('sounds/drummer1/salsa'):\n",
    "\n",
    "    beats=[]\n",
    "    idealSixteenths = []\n",
    "    init_beat = []\n",
    "    end_beat = []\n",
    "    \n",
    "    if '.wav' not in file: continue\n",
    "    filename = file\n",
    "    load_file = 'sounds/' + filename  \n",
    "    \n",
    "    # load audio \n",
    "    loader = es.MonoLoader(filename=load_file)\n",
    "    audio = loader()\n",
    "\n",
    "    # find beats\n",
    "    bt = es.BeatTrackerMultiFeature()\n",
    "    beats, _ = bt(audio)\n",
    "\n",
    "    # create metrical grid:\n",
    "    a = len(beats) - 1\n",
    "    init_beat = beats[0]\n",
    "    end_beat = beats[a]\n",
    "\n",
    "    # equally spaced lines\n",
    "    ids_range = len(beats)*4\n",
    "    idealSixteenths = np.linspace(init_beat, end_beat, ids_range)\n",
    "\n",
    "    # read annotated onsets from csv-file\n",
    "    read_onset = 'onsets/snare/' + 'onset.snare.' + filename[:-3] + 'csv'\n",
    "    onsets = np.genfromtxt(read_onset)\n",
    "\n",
    "    # find nearest neighbour\n",
    "\n",
    "    for onset in onsets:\n",
    "        devs.append(nearestNeighbour(onset, idealSixteenths))\n",
    "\n",
    "    # print devs\n",
    "    \n",
    "    # see amount of onsets per ideal sixteenths:\n",
    "    # Counter(elem[0] for elem in devs)"
   ]
  },
  {
   "cell_type": "code",
   "execution_count": 441,
   "metadata": {
    "collapsed": true
   },
   "outputs": [],
   "source": [
    "ids_one = [item for item in devs if item[0] == 1]\n",
    "ids_two = [item for item in devs if item[0] == 2]\n",
    "ids_three = [item for item in devs if item[0] == 3]\n",
    "ids_four = [item for item in devs if item[0] == 4]\n",
    "ids_five = [item for item in devs if item[0] == 5]\n",
    "ids_six = [item for item in devs if item[0] == 6]\n",
    "ids_seven = [item for item in devs if item[0] == 7]\n",
    "ids_eight = [item for item in devs if item[0] == 8]\n",
    "ids_nine = [item for item in devs if item[0] == 9]\n",
    "ids_ten = [item for item in devs if item[0] == 10]\n",
    "ids_eleven = [item for item in devs if item[0] == 11]\n",
    "ids_twelve = [item for item in devs if item[0] == 12]\n",
    "ids_thirteen = [item for item in devs if item[0] == 13]\n",
    "ids_fourteen = [item for item in devs if item[0] == 14]\n",
    "ids_fifteen = [item for item in devs if item[0] == 15]\n",
    "ids_sixteen = [item for item in devs if item[0] == 16]\n",
    "\n",
    "c_one = Counter(elem[1] for elem in ids_one)\n",
    "c_two = Counter(elem[1] for elem in ids_two)\n",
    "c_three = Counter(elem[1] for elem in ids_three)\n",
    "c_four = Counter(elem[1] for elem in ids_four)\n",
    "c_five = Counter(elem[1] for elem in ids_five)\n",
    "c_six = Counter(elem[1] for elem in ids_six)\n",
    "c_seven = Counter(elem[1] for elem in ids_seven)\n",
    "c_eight = Counter(elem[1] for elem in ids_eight)\n",
    "c_nine = Counter(elem[1] for elem in ids_nine)\n",
    "c_ten = Counter(elem[1] for elem in ids_ten)\n",
    "c_eleven = Counter(elem[1] for elem in ids_eleven)\n",
    "c_twelve = Counter(elem[1] for elem in ids_twelve)\n",
    "c_thirteen = Counter(elem[1] for elem in ids_thirteen)\n",
    "c_fourteen = Counter(elem[1] for elem in ids_fourteen)\n",
    "c_fifteen = Counter(elem[1] for elem in ids_fifteen)\n",
    "c_sixteen = Counter(elem[1] for elem in ids_sixteen)"
   ]
  },
  {
   "cell_type": "code",
   "execution_count": 458,
   "metadata": {
    "collapsed": false
   },
   "outputs": [
    {
     "data": {
      "text/plain": [
       "Counter({-0.09: 1,\n",
       "         -0.08: 1,\n",
       "         -0.07: 1,\n",
       "         -0.06: 1,\n",
       "         -0.05: 1,\n",
       "         -0.04: 4,\n",
       "         -0.03: 3,\n",
       "         -0.02: 6,\n",
       "         -0.01: 5,\n",
       "         -0.005: 3,\n",
       "         0.0: 2,\n",
       "         0.005: 2,\n",
       "         0.01: 3,\n",
       "         0.02: 4,\n",
       "         0.03: 3,\n",
       "         0.04: 3,\n",
       "         0.05: 5,\n",
       "         0.09: 1})"
      ]
     },
     "execution_count": 458,
     "metadata": {},
     "output_type": "execute_result"
    }
   ],
   "source": [
    "heatmap_count(ids_one, ids_two, ids_three, ids_four)"
   ]
  },
  {
   "cell_type": "markdown",
   "metadata": {},
   "source": [
    "# #3: HI-HATS AND CYMBALS\n",
    "#3: hi-hat (closed) (chh), hi-hat (open) (ohh), cowbell (cb), other cymbals (c)"
   ]
  },
  {
   "cell_type": "code",
   "execution_count": 459,
   "metadata": {
    "collapsed": false
   },
   "outputs": [
    {
     "name": "stdout",
     "output_type": "stream",
     "text": [
      "The song is probably in 4/4\n",
      "The song is probably in 4/4\n",
      "The song is probably in 4/4\n",
      "The song is probably in 4/4\n",
      "The song is probably in 4/4\n",
      "The song is probably in 4/4\n",
      "The song is probably in 4/4\n"
     ]
    },
    {
     "name": "stderr",
     "output_type": "stream",
     "text": [
      "/usr/local/lib/python2.7/dist-packages/ipykernel/__main__.py:64: UserWarning: genfromtxt: Empty input file: \"onsets/hihat/onset.hihat.048_phrase_afro_simple_slow_mallets.csv\"\n"
     ]
    },
    {
     "name": "stdout",
     "output_type": "stream",
     "text": [
      "The song is probably in 4/4\n",
      "The song is probably in 4/4\n"
     ]
    },
    {
     "name": "stderr",
     "output_type": "stream",
     "text": [
      "/usr/local/lib/python2.7/dist-packages/ipykernel/__main__.py:64: UserWarning: genfromtxt: Empty input file: \"onsets/hihat/onset.hihat.085_phrase_waltz_simple_medium_brushes.csv\"\n"
     ]
    },
    {
     "name": "stdout",
     "output_type": "stream",
     "text": [
      "The song is probably in 4/4\n",
      "The song is probably in 4/4\n",
      "The song is probably in 4/4\n"
     ]
    },
    {
     "name": "stderr",
     "output_type": "stream",
     "text": [
      "/usr/local/lib/python2.7/dist-packages/ipykernel/__main__.py:64: UserWarning: genfromtxt: Empty input file: \"onsets/hihat/onset.hihat.084_phrase_waltz_simple_slow_brushes.csv\"\n"
     ]
    },
    {
     "name": "stdout",
     "output_type": "stream",
     "text": [
      "The song is probably in 4/4\n"
     ]
    },
    {
     "name": "stderr",
     "output_type": "stream",
     "text": [
      "/usr/local/lib/python2.7/dist-packages/ipykernel/__main__.py:64: UserWarning: genfromtxt: Empty input file: \"onsets/hihat/onset.hihat.050_phrase_afro_simple_fast_mallets.csv\"\n",
      "/usr/local/lib/python2.7/dist-packages/ipykernel/__main__.py:64: UserWarning: genfromtxt: Empty input file: \"onsets/hihat/onset.hihat.049_phrase_afro_simple_medium_mallets.csv\"\n"
     ]
    },
    {
     "name": "stdout",
     "output_type": "stream",
     "text": [
      "The song is probably in 4/4\n"
     ]
    }
   ],
   "source": [
    "beat = []\n",
    "devs = []\n",
    "for file in os.listdir('sounds/drummer1/salsa'):\n",
    "\n",
    "    beats=[]\n",
    "    idealSixteenths = []\n",
    "    init_beat = []\n",
    "    end_beat = []\n",
    "    \n",
    "    if '.wav' not in file: continue\n",
    "    filename = file\n",
    "    load_file = 'sounds/' + filename  \n",
    "    \n",
    "    # load audio \n",
    "    loader = es.MonoLoader(filename=load_file)\n",
    "    audio = loader()\n",
    "\n",
    "    # find beats\n",
    "    bt = es.BeatTrackerMultiFeature()\n",
    "    beats, _ = bt(audio)\n",
    "\n",
    "    # create metrical grid:\n",
    "    a = len(beats) - 1\n",
    "    init_beat = beats[0]\n",
    "    end_beat = beats[a]\n",
    "\n",
    "    # equally spaced lines\n",
    "    ids_range = len(beats)*4\n",
    "    idealSixteenths = np.linspace(init_beat, end_beat, ids_range)\n",
    "\n",
    "    #file = filename\n",
    "    #filejpg = 'plots/'+'plot.' + file[:-3] + 'png'\n",
    "\n",
    "    # save metrical grid to file\n",
    "    # should be used for later analysis of the instruments\n",
    "\n",
    "    #filetxt = 'metrical_grid/'+'metgrid.' + file[:-3] + 'txt' #or csv?\n",
    "    #np.savetxt(filetxt, idealSixteenths)\n",
    "\n",
    "    # read annotated onsets from csv-file\n",
    "    read_onset = 'onsets/hihat/' + 'onset.hihat.' + filename[:-3] + 'csv'\n",
    "    onsets = np.genfromtxt(read_onset)\n",
    "\n",
    "    # find nearest neighbour\n",
    "\n",
    "    for onset in onsets:\n",
    "        devs.append(nearestNeighbour(onset, idealSixteenths))\n",
    "\n",
    "    # print devs\n",
    "    \n",
    "    # see amount of onsets per ideal sixteenths:\n",
    "    # Counter(elem[0] for elem in devs)"
   ]
  },
  {
   "cell_type": "code",
   "execution_count": 460,
   "metadata": {
    "collapsed": true
   },
   "outputs": [],
   "source": [
    "ids_one = [item for item in devs if item[0] == 1]\n",
    "ids_two = [item for item in devs if item[0] == 2]\n",
    "ids_three = [item for item in devs if item[0] == 3]\n",
    "ids_four = [item for item in devs if item[0] == 4]\n",
    "ids_five = [item for item in devs if item[0] == 5]\n",
    "ids_six = [item for item in devs if item[0] == 6]\n",
    "ids_seven = [item for item in devs if item[0] == 7]\n",
    "ids_eight = [item for item in devs if item[0] == 8]\n",
    "ids_nine = [item for item in devs if item[0] == 9]\n",
    "ids_ten = [item for item in devs if item[0] == 10]\n",
    "ids_eleven = [item for item in devs if item[0] == 11]\n",
    "ids_twelve = [item for item in devs if item[0] == 12]\n",
    "ids_thirteen = [item for item in devs if item[0] == 13]\n",
    "ids_fourteen = [item for item in devs if item[0] == 14]\n",
    "ids_fifteen = [item for item in devs if item[0] == 15]\n",
    "ids_sixteen = [item for item in devs if item[0] == 16]\n",
    "\n",
    "c_one = Counter(elem[1] for elem in ids_one)\n",
    "c_two = Counter(elem[1] for elem in ids_two)\n",
    "c_three = Counter(elem[1] for elem in ids_three)\n",
    "c_four = Counter(elem[1] for elem in ids_four)\n",
    "c_five = Counter(elem[1] for elem in ids_five)\n",
    "c_six = Counter(elem[1] for elem in ids_six)\n",
    "c_seven = Counter(elem[1] for elem in ids_seven)\n",
    "c_eight = Counter(elem[1] for elem in ids_eight)\n",
    "c_nine = Counter(elem[1] for elem in ids_nine)\n",
    "c_ten = Counter(elem[1] for elem in ids_ten)\n",
    "c_eleven = Counter(elem[1] for elem in ids_eleven)\n",
    "c_twelve = Counter(elem[1] for elem in ids_twelve)\n",
    "c_thirteen = Counter(elem[1] for elem in ids_thirteen)\n",
    "c_fourteen = Counter(elem[1] for elem in ids_fourteen)\n",
    "c_fifteen = Counter(elem[1] for elem in ids_fifteen)\n",
    "c_sixteen = Counter(elem[1] for elem in ids_sixteen)"
   ]
  },
  {
   "cell_type": "code",
   "execution_count": 505,
   "metadata": {
    "collapsed": false,
    "scrolled": true
   },
   "outputs": [
    {
     "name": "stdout",
     "output_type": "stream",
     "text": [
      "0\n",
      "0\n",
      "2\n",
      "4\n",
      "3\n",
      "2\n",
      "9\n",
      "11\n",
      "8\n",
      "9\n",
      "2\n",
      "5\n",
      "2\n",
      "10\n",
      "7\n",
      "7\n",
      "5\n",
      "7\n",
      "1\n",
      "1\n",
      "0\n",
      "0\n",
      "0\n"
     ]
    }
   ],
   "source": [
    "heatmap_count(ids_one, ids_two, ids_three, ids_four)"
   ]
  },
  {
   "cell_type": "markdown",
   "metadata": {},
   "source": [
    "# #5: Toms"
   ]
  },
  {
   "cell_type": "code",
   "execution_count": 507,
   "metadata": {
    "collapsed": false
   },
   "outputs": [
    {
     "name": "stderr",
     "output_type": "stream",
     "text": [
      "/usr/local/lib/python2.7/dist-packages/ipykernel/__main__.py:57: UserWarning: genfromtxt: Empty input file: \"onsets/toms/onset.toms.037_phrase_disco_simple_medium_sticks.csv\"\n",
      "/usr/local/lib/python2.7/dist-packages/ipykernel/__main__.py:57: UserWarning: genfromtxt: Empty input file: \"onsets/toms/onset.toms.066_phrase_shuffle-blues_simple_slow_brushes.csv\"\n",
      "/usr/local/lib/python2.7/dist-packages/ipykernel/__main__.py:57: UserWarning: genfromtxt: Empty input file: \"onsets/toms/onset.toms.086_phrase_waltz_simple_fast_brushes.csv\"\n",
      "/usr/local/lib/python2.7/dist-packages/ipykernel/__main__.py:57: UserWarning: genfromtxt: Empty input file: \"onsets/toms/onset.toms.036_phrase_disco_simple_slow_sticks.csv\"\n",
      "/usr/local/lib/python2.7/dist-packages/ipykernel/__main__.py:57: UserWarning: genfromtxt: Empty input file: \"onsets/toms/onset.toms.044_phrase_rock_simple_fast_rods.csv\"\n",
      "/usr/local/lib/python2.7/dist-packages/ipykernel/__main__.py:57: UserWarning: genfromtxt: Empty input file: \"onsets/toms/onset.toms.038_phrase_disco_simple_fast_sticks.csv\"\n",
      "/usr/local/lib/python2.7/dist-packages/ipykernel/__main__.py:57: UserWarning: genfromtxt: Empty input file: \"onsets/toms/onset.toms.061_phrase_salsa_simple_medium_sticks.csv\"\n",
      "/usr/local/lib/python2.7/dist-packages/ipykernel/__main__.py:57: UserWarning: genfromtxt: Empty input file: \"onsets/toms/onset.toms.079_phrase_reggae_simple_medium_sticks.csv\"\n",
      "/usr/local/lib/python2.7/dist-packages/ipykernel/__main__.py:57: UserWarning: genfromtxt: Empty input file: \"onsets/toms/onset.toms.068_phrase_shuffle-blues_simple_fast_brushes.csv\"\n",
      "/usr/local/lib/python2.7/dist-packages/ipykernel/__main__.py:57: UserWarning: genfromtxt: Empty input file: \"onsets/toms/onset.toms.043_phrase_rock_simple_medium_rods.csv\"\n",
      "/usr/local/lib/python2.7/dist-packages/ipykernel/__main__.py:57: UserWarning: genfromtxt: Empty input file: \"onsets/toms/onset.toms.085_phrase_waltz_simple_medium_brushes.csv\"\n",
      "/usr/local/lib/python2.7/dist-packages/ipykernel/__main__.py:57: UserWarning: genfromtxt: Empty input file: \"onsets/toms/onset.toms.042_phrase_rock_simple_slow_rods.csv\"\n",
      "/usr/local/lib/python2.7/dist-packages/ipykernel/__main__.py:57: UserWarning: genfromtxt: Empty input file: \"onsets/toms/onset.toms.078_phrase_reggae_simple_slow_sticks.csv\"\n",
      "/usr/local/lib/python2.7/dist-packages/ipykernel/__main__.py:57: UserWarning: genfromtxt: Empty input file: \"onsets/toms/onset.toms.084_phrase_waltz_simple_slow_brushes.csv\"\n",
      "/usr/local/lib/python2.7/dist-packages/ipykernel/__main__.py:57: UserWarning: genfromtxt: Empty input file: \"onsets/toms/onset.toms.060_phrase_salsa_simple_slow_sticks.csv\"\n",
      "/usr/local/lib/python2.7/dist-packages/ipykernel/__main__.py:57: UserWarning: genfromtxt: Empty input file: \"onsets/toms/onset.toms.067_phrase_shuffle-blues_simple_medium_brushes.csv\"\n",
      "/usr/local/lib/python2.7/dist-packages/ipykernel/__main__.py:57: UserWarning: genfromtxt: Empty input file: \"onsets/toms/onset.toms.080_phrase_reggae_simple_fast_sticks.csv\"\n"
     ]
    }
   ],
   "source": [
    "beat = []\n",
    "devs = []\n",
    "for file in os.listdir('sounds/'):\n",
    "\n",
    "    beats=[]\n",
    "    idealSixteenths = []\n",
    "    init_beat = []\n",
    "    end_beat = []\n",
    "    \n",
    "    if '.wav' not in file: continue\n",
    "    filename = file\n",
    "    load_file = 'sounds/' + filename  \n",
    "    \n",
    "    # load audio \n",
    "    loader = es.MonoLoader(filename=load_file)\n",
    "    audio = loader()\n",
    "\n",
    "    # find beats\n",
    "    bt = es.BeatTrackerMultiFeature()\n",
    "    beats, _ = bt(audio)\n",
    "\n",
    "    # create metrical grid:\n",
    "    a = len(beats) - 1\n",
    "    init_beat = beats[0]\n",
    "    end_beat = beats[a]\n",
    "\n",
    "    # equally spaced lines\n",
    "    ids_range = len(beats)*4\n",
    "    idealSixteenths = np.linspace(init_beat, end_beat, ids_range)\n",
    "\n",
    "    #file = filename\n",
    "    #filejpg = 'plots/'+'plot.' + file[:-3] + 'png'\n",
    "\n",
    "    fs=44100\n",
    "    t = np.arange(len(audio))/float(fs)\n",
    "    #plt.plot(t, audio)\n",
    "    #for loc in idealSixteenths:\n",
    "    #    plt.axvline(x=loc, color='y')\n",
    "    #for i in range(len(beats)):\n",
    "    #    plt.axvline(idealSixteenths[4*i], color = 'r')\n",
    "\n",
    "    #title = file[:-4] \n",
    "    #plt.title(title)\n",
    "    #plt.xlabel('time')\n",
    "    #plt.ylabel('audio')\n",
    "    # plt.savefig(filejpg)\n",
    "    #plt.close()\n",
    "\n",
    "    # save metrical grid to file\n",
    "    # should be used for later analysis of the instruments\n",
    "\n",
    "    #filetxt = 'metrical_grid/'+'metgrid.' + file[:-3] + 'txt' #or csv?\n",
    "    #np.savetxt(filetxt, idealSixteenths)\n",
    "\n",
    "    # read annotated onsets from csv-file\n",
    "    read_onset = 'onsets/toms/' + 'onset.toms.' + filename[:-3] + 'csv'\n",
    "    onsets = np.genfromtxt(read_onset)\n",
    "\n",
    "    # find nearest neighbour\n",
    "\n",
    "    for onset in onsets:\n",
    "        devs.append(nearestNeighbour(onset, idealSixteenths))\n",
    "\n",
    "    # print devs\n",
    "    \n",
    "    # see amount of onsets per ideal sixteenths:\n",
    "    # Counter(elem[0] for elem in devs)"
   ]
  },
  {
   "cell_type": "code",
   "execution_count": 509,
   "metadata": {
    "collapsed": false
   },
   "outputs": [],
   "source": [
    "ids_one = [item for item in devs if item[0] == 1]\n",
    "ids_two = [item for item in devs if item[0] == 2]\n",
    "ids_three = [item for item in devs if item[0] == 3]\n",
    "ids_four = [item for item in devs if item[0] == 4]\n",
    "ids_five = [item for item in devs if item[0] == 5]\n",
    "ids_six = [item for item in devs if item[0] == 6]\n",
    "ids_seven = [item for item in devs if item[0] == 7]\n",
    "ids_eight = [item for item in devs if item[0] == 8]\n",
    "ids_nine = [item for item in devs if item[0] == 9]\n",
    "ids_ten = [item for item in devs if item[0] == 10]\n",
    "ids_eleven = [item for item in devs if item[0] == 11]\n",
    "ids_twelve = [item for item in devs if item[0] == 12]\n",
    "ids_thirteen = [item for item in devs if item[0] == 13]\n",
    "ids_fourteen = [item for item in devs if item[0] == 14]\n",
    "ids_fifteen = [item for item in devs if item[0] == 15]\n",
    "ids_sixteen = [item for item in devs if item[0] == 16]\n",
    "\n",
    "c_one = Counter(elem[1] for elem in ids_one)\n",
    "c_two = Counter(elem[1] for elem in ids_two)\n",
    "c_three = Counter(elem[1] for elem in ids_three)\n",
    "c_four = Counter(elem[1] for elem in ids_four)\n",
    "c_five = Counter(elem[1] for elem in ids_five)\n",
    "c_six = Counter(elem[1] for elem in ids_six)\n",
    "c_seven = Counter(elem[1] for elem in ids_seven)\n",
    "c_eight = Counter(elem[1] for elem in ids_eight)\n",
    "c_nine = Counter(elem[1] for elem in ids_nine)\n",
    "c_ten = Counter(elem[1] for elem in ids_ten)\n",
    "c_eleven = Counter(elem[1] for elem in ids_eleven)\n",
    "c_twelve = Counter(elem[1] for elem in ids_twelve)\n",
    "c_thirteen = Counter(elem[1] for elem in ids_thirteen)\n",
    "c_fourteen = Counter(elem[1] for elem in ids_fourteen)\n",
    "c_fifteen = Counter(elem[1] for elem in ids_fifteen)\n",
    "c_sixteen = Counter(elem[1] for elem in ids_sixteen)"
   ]
  },
  {
   "cell_type": "code",
   "execution_count": 526,
   "metadata": {
    "collapsed": false
   },
   "outputs": [
    {
     "name": "stdout",
     "output_type": "stream",
     "text": [
      "0\n",
      "0\n",
      "0\n",
      "1\n",
      "0\n",
      "0\n",
      "3\n",
      "1\n",
      "2\n",
      "1\n",
      "2\n",
      "1\n",
      "3\n",
      "2\n",
      "0\n",
      "1\n",
      "4\n",
      "3\n",
      "0\n",
      "1\n",
      "0\n",
      "0\n",
      "0\n"
     ]
    }
   ],
   "source": [
    "heatmap_count(ids_one, ids_two, ids_three, ids_four)"
   ]
  },
  {
   "cell_type": "markdown",
   "metadata": {},
   "source": [
    "# #6 Cymbals"
   ]
  },
  {
   "cell_type": "code",
   "execution_count": 129,
   "metadata": {
    "collapsed": true
   },
   "outputs": [],
   "source": [
    "#6: ride cymbal (rc), chinese ride cymbal (ch), crash cymbal (cr), splash cymbal (spl)"
   ]
  },
  {
   "cell_type": "code",
   "execution_count": 108,
   "metadata": {
    "collapsed": false
   },
   "outputs": [
    {
     "name": "stderr",
     "output_type": "stream",
     "text": [
      "/usr/local/lib/python2.7/dist-packages/ipykernel/__main__.py:57: UserWarning: genfromtxt: Empty input file: \"onsets/cymbals/onset.cymbals.071_phrase_shuffle-blues_complex_fast_brushes.csv\"\n",
      "/usr/local/lib/python2.7/dist-packages/ipykernel/__main__.py:57: UserWarning: genfromtxt: Empty input file: \"onsets/cymbals/onset.cymbals.044_phrase_rock_simple_fast_rods.csv\"\n",
      "/usr/local/lib/python2.7/dist-packages/ipykernel/__main__.py:57: UserWarning: genfromtxt: Empty input file: \"onsets/cymbals/onset.cymbals.061_phrase_salsa_simple_medium_sticks.csv\"\n",
      "/usr/local/lib/python2.7/dist-packages/ipykernel/__main__.py:57: UserWarning: genfromtxt: Empty input file: \"onsets/cymbals/onset.cymbals.048_phrase_afro_simple_slow_mallets.csv\"\n",
      "/usr/local/lib/python2.7/dist-packages/ipykernel/__main__.py:57: UserWarning: genfromtxt: Empty input file: \"onsets/cymbals/onset.cymbals.062_phrase_salsa_simple_fast_sticks.csv\"\n"
     ]
    },
    {
     "ename": "KeyboardInterrupt",
     "evalue": "",
     "output_type": "error",
     "traceback": [
      "\u001b[0;31m---------------------------------------------------------------------------\u001b[0m",
      "\u001b[0;31mKeyboardInterrupt\u001b[0m                         Traceback (most recent call last)",
      "\u001b[0;32m<ipython-input-108-6821948965b4>\u001b[0m in \u001b[0;36m<module>\u001b[0;34m()\u001b[0m\n\u001b[1;32m     14\u001b[0m     \u001b[0;31m# load audio\u001b[0m\u001b[0;34m\u001b[0m\u001b[0;34m\u001b[0m\u001b[0m\n\u001b[1;32m     15\u001b[0m     \u001b[0mloader\u001b[0m \u001b[0;34m=\u001b[0m \u001b[0mes\u001b[0m\u001b[0;34m.\u001b[0m\u001b[0mMonoLoader\u001b[0m\u001b[0;34m(\u001b[0m\u001b[0mfilename\u001b[0m\u001b[0;34m=\u001b[0m\u001b[0mload_file\u001b[0m\u001b[0;34m)\u001b[0m\u001b[0;34m\u001b[0m\u001b[0m\n\u001b[0;32m---> 16\u001b[0;31m     \u001b[0maudio\u001b[0m \u001b[0;34m=\u001b[0m \u001b[0mloader\u001b[0m\u001b[0;34m(\u001b[0m\u001b[0;34m)\u001b[0m\u001b[0;34m\u001b[0m\u001b[0m\n\u001b[0m\u001b[1;32m     17\u001b[0m \u001b[0;34m\u001b[0m\u001b[0m\n\u001b[1;32m     18\u001b[0m     \u001b[0;31m# find beats\u001b[0m\u001b[0;34m\u001b[0m\u001b[0;34m\u001b[0m\u001b[0m\n",
      "\u001b[0;32m/usr/local/lib/python2.7/dist-packages/essentia/standard.py\u001b[0m in \u001b[0;36m__call__\u001b[0;34m(self, *args)\u001b[0m\n\u001b[1;32m     98\u001b[0m \u001b[0;34m\u001b[0m\u001b[0m\n\u001b[1;32m     99\u001b[0m         \u001b[0;32mdef\u001b[0m \u001b[0m__call__\u001b[0m\u001b[0;34m(\u001b[0m\u001b[0mself\u001b[0m\u001b[0;34m,\u001b[0m \u001b[0;34m*\u001b[0m\u001b[0margs\u001b[0m\u001b[0;34m)\u001b[0m\u001b[0;34m:\u001b[0m\u001b[0;34m\u001b[0m\u001b[0m\n\u001b[0;32m--> 100\u001b[0;31m             \u001b[0;32mreturn\u001b[0m \u001b[0mself\u001b[0m\u001b[0;34m.\u001b[0m\u001b[0mcompute\u001b[0m\u001b[0;34m(\u001b[0m\u001b[0;34m*\u001b[0m\u001b[0margs\u001b[0m\u001b[0;34m)\u001b[0m\u001b[0;34m\u001b[0m\u001b[0m\n\u001b[0m\u001b[1;32m    101\u001b[0m \u001b[0;34m\u001b[0m\u001b[0m\n\u001b[1;32m    102\u001b[0m         \u001b[0;32mdef\u001b[0m \u001b[0m__str__\u001b[0m\u001b[0;34m(\u001b[0m\u001b[0mself\u001b[0m\u001b[0;34m)\u001b[0m\u001b[0;34m:\u001b[0m\u001b[0;34m\u001b[0m\u001b[0m\n",
      "\u001b[0;32m/usr/local/lib/python2.7/dist-packages/essentia/standard.py\u001b[0m in \u001b[0;36mcompute\u001b[0;34m(self, *args)\u001b[0m\n\u001b[1;32m     83\u001b[0m                 \u001b[0mconvertedArgs\u001b[0m\u001b[0;34m.\u001b[0m\u001b[0mappend\u001b[0m\u001b[0;34m(\u001b[0m\u001b[0mconvertedData\u001b[0m\u001b[0;34m)\u001b[0m\u001b[0;34m\u001b[0m\u001b[0m\n\u001b[1;32m     84\u001b[0m \u001b[0;34m\u001b[0m\u001b[0m\n\u001b[0;32m---> 85\u001b[0;31m             \u001b[0mresults\u001b[0m \u001b[0;34m=\u001b[0m \u001b[0mself\u001b[0m\u001b[0;34m.\u001b[0m\u001b[0m__compute__\u001b[0m\u001b[0;34m(\u001b[0m\u001b[0;34m*\u001b[0m\u001b[0mconvertedArgs\u001b[0m\u001b[0;34m)\u001b[0m\u001b[0;34m\u001b[0m\u001b[0m\n\u001b[0m\u001b[1;32m     86\u001b[0m \u001b[0;34m\u001b[0m\u001b[0m\n\u001b[1;32m     87\u001b[0m             \u001b[0;31m# we have to make an exceptional case for YamlInput, because we need\u001b[0m\u001b[0;34m\u001b[0m\u001b[0;34m\u001b[0m\u001b[0m\n",
      "\u001b[0;31mKeyboardInterrupt\u001b[0m: "
     ]
    }
   ],
   "source": [
    "beat = []\n",
    "devs = []\n",
    "for file in os.listdir('sounds/'):\n",
    "\n",
    "    beats=[]\n",
    "    idealSixteenths = []\n",
    "    init_beat = []\n",
    "    end_beat = []\n",
    "    \n",
    "    if '.wav' not in file: continue\n",
    "    filename = file\n",
    "    load_file = 'sounds/' + filename  \n",
    "    \n",
    "    # load audio \n",
    "    loader = es.MonoLoader(filename=load_file)\n",
    "    audio = loader()\n",
    "\n",
    "    # find beats\n",
    "    bt = es.BeatTrackerMultiFeature()\n",
    "    beats, _ = bt(audio)\n",
    "\n",
    "    # create metrical grid:\n",
    "    a = len(beats) - 1\n",
    "    init_beat = beats[0]\n",
    "    end_beat = beats[a]\n",
    "\n",
    "    # equally spaced lines\n",
    "    ids_range = len(beats)*4\n",
    "    idealSixteenths = np.linspace(init_beat, end_beat, ids_range)\n",
    "\n",
    "    file = filename\n",
    "    filejpg = 'plots/'+'plot.' + file[:-3] + 'png'\n",
    "\n",
    "    fs=44100\n",
    "    t = np.arange(len(audio))/float(fs)\n",
    "    #plt.plot(t, audio)\n",
    "    #for loc in idealSixteenths:\n",
    "    #    plt.axvline(x=loc, color='y')\n",
    "    #for i in range(len(beats)):\n",
    "    #    plt.axvline(idealSixteenths[4*i], color = 'r')\n",
    "\n",
    "    #title = file[:-4] \n",
    "    #plt.title(title)\n",
    "    #plt.xlabel('time')\n",
    "    #plt.ylabel('audio')\n",
    "    #plt.savefig(filejpg)\n",
    "    #plt.close()\n",
    "\n",
    "    # save metrical grid to file\n",
    "    # should be used for later analysis of the instruments\n",
    "\n",
    "    filetxt = 'metrical_grid/'+'metgrid.' + file[:-3] + 'txt' #or csv?\n",
    "    np.savetxt(filetxt, idealSixteenths)\n",
    "\n",
    "    # read annotated onsets from csv-file\n",
    "    read_onset = 'onsets/cymbals/' + 'onset.cymbals.' + filename[:-3] + 'csv'\n",
    "    onsets = np.genfromtxt(read_onset)\n",
    "\n",
    "    # find nearest neighbour\n",
    "\n",
    "    for onset in onsets:\n",
    "        devs.append(nearestNeighbour(onset, idealSixteenths))\n",
    "\n",
    "    # print devs\n",
    "    \n",
    "    # see amount of onsets per ideal sixteenths:\n",
    "    # Counter(elem[0] for elem in devs)"
   ]
  },
  {
   "cell_type": "code",
   "execution_count": 556,
   "metadata": {
    "collapsed": true
   },
   "outputs": [],
   "source": [
    "ids_one = [item for item in devs if item[0] == 1]\n",
    "ids_two = [item for item in devs if item[0] == 2]\n",
    "ids_three = [item for item in devs if item[0] == 3]\n",
    "ids_four = [item for item in devs if item[0] == 4]\n",
    "ids_five = [item for item in devs if item[0] == 5]\n",
    "ids_six = [item for item in devs if item[0] == 6]\n",
    "ids_seven = [item for item in devs if item[0] == 7]\n",
    "ids_eight = [item for item in devs if item[0] == 8]\n",
    "ids_nine = [item for item in devs if item[0] == 9]\n",
    "ids_ten = [item for item in devs if item[0] == 10]\n",
    "ids_eleven = [item for item in devs if item[0] == 11]\n",
    "ids_twelve = [item for item in devs if item[0] == 12]\n",
    "ids_thirteen = [item for item in devs if item[0] == 13]\n",
    "ids_fourteen = [item for item in devs if item[0] == 14]\n",
    "ids_fifteen = [item for item in devs if item[0] == 15]\n",
    "ids_sixteen = [item for item in devs if item[0] == 16]\n",
    "\n",
    "c_one = Counter(elem[1] for elem in ids_one)\n",
    "c_two = Counter(elem[1] for elem in ids_two)\n",
    "c_three = Counter(elem[1] for elem in ids_three)\n",
    "c_four = Counter(elem[1] for elem in ids_four)\n",
    "c_five = Counter(elem[1] for elem in ids_five)\n",
    "c_six = Counter(elem[1] for elem in ids_six)\n",
    "c_seven = Counter(elem[1] for elem in ids_seven)\n",
    "c_eight = Counter(elem[1] for elem in ids_eight)\n",
    "c_nine = Counter(elem[1] for elem in ids_nine)\n",
    "c_ten = Counter(elem[1] for elem in ids_ten)\n",
    "c_eleven = Counter(elem[1] for elem in ids_eleven)\n",
    "c_twelve = Counter(elem[1] for elem in ids_twelve)\n",
    "c_thirteen = Counter(elem[1] for elem in ids_thirteen)\n",
    "c_fourteen = Counter(elem[1] for elem in ids_fourteen)\n",
    "c_fifteen = Counter(elem[1] for elem in ids_fifteen)\n",
    "c_sixteen = Counter(elem[1] for elem in ids_sixteen)"
   ]
  },
  {
   "cell_type": "code",
   "execution_count": 572,
   "metadata": {
    "collapsed": false
   },
   "outputs": [
    {
     "name": "stdout",
     "output_type": "stream",
     "text": [
      "0\n",
      "0\n",
      "0\n",
      "2\n",
      "2\n",
      "1\n",
      "5\n",
      "8\n",
      "3\n",
      "5\n",
      "1\n",
      "3\n",
      "3\n",
      "5\n",
      "4\n",
      "3\n",
      "2\n",
      "0\n",
      "3\n",
      "2\n",
      "0\n",
      "0\n",
      "0\n"
     ]
    }
   ],
   "source": [
    "heatmap_count(ids_one, ids_two, ids_three, ids_four)"
   ]
  }
 ],
 "metadata": {
  "kernelspec": {
   "display_name": "Python 2",
   "language": "python",
   "name": "python2"
  },
  "language_info": {
   "codemirror_mode": {
    "name": "ipython",
    "version": 2
   },
   "file_extension": ".py",
   "mimetype": "text/x-python",
   "name": "python",
   "nbconvert_exporter": "python",
   "pygments_lexer": "ipython2",
   "version": "2.7.6"
  }
 },
 "nbformat": 4,
 "nbformat_minor": 2
}
