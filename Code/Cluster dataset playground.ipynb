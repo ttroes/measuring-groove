{
 "cells": [
  {
   "cell_type": "code",
   "execution_count": 21,
   "metadata": {
    "collapsed": true
   },
   "outputs": [],
   "source": [
    "%matplotlib inline\n",
    "import pandas as pd\n",
    "from sklearn.datasets.samples_generator import make_blobs\n",
    "import matplotlib.pyplot as plt"
   ]
  },
  {
   "cell_type": "code",
   "execution_count": 8,
   "metadata": {
    "collapsed": false
   },
   "outputs": [],
   "source": [
    "StringIO = 'cluster_dataset.csv'\n",
    "data = pd.read_csv(StringIO)"
   ]
  },
  {
   "cell_type": "code",
   "execution_count": 9,
   "metadata": {
    "collapsed": false
   },
   "outputs": [
    {
     "data": {
      "text/html": [
       "<div style=\"max-height:1000px;max-width:1500px;overflow:auto;\">\n",
       "<table border=\"1\" class=\"dataframe\">\n",
       "  <thead>\n",
       "    <tr style=\"text-align: right;\">\n",
       "      <th></th>\n",
       "      <th>DRUMMER 1 </th>\n",
       "      <th>event density</th>\n",
       "      <th>Onsets-beat</th>\n",
       "    </tr>\n",
       "  </thead>\n",
       "  <tbody>\n",
       "    <tr>\n",
       "      <th>0 </th>\n",
       "      <td>              036_phrase_disco_simple_slow_sticks</td>\n",
       "      <td>   20.519</td>\n",
       "      <td> 4.209</td>\n",
       "    </tr>\n",
       "    <tr>\n",
       "      <th>1 </th>\n",
       "      <td>            037_phrase_disco_simple_medium_sticks</td>\n",
       "      <td>   65.881</td>\n",
       "      <td> 6.074</td>\n",
       "    </tr>\n",
       "    <tr>\n",
       "      <th>2 </th>\n",
       "      <td>              038_phrase_disco_simple_fast_sticks</td>\n",
       "      <td>  145.994</td>\n",
       "      <td> 6.273</td>\n",
       "    </tr>\n",
       "    <tr>\n",
       "      <th>3 </th>\n",
       "      <td>             039_phrase_disco_complex_slow_sticks</td>\n",
       "      <td>  289.685</td>\n",
       "      <td> 5.579</td>\n",
       "    </tr>\n",
       "    <tr>\n",
       "      <th>4 </th>\n",
       "      <td>           040_phrase_disco_complex_medium_sticks</td>\n",
       "      <td>  277.883</td>\n",
       "      <td> 5.625</td>\n",
       "    </tr>\n",
       "    <tr>\n",
       "      <th>5 </th>\n",
       "      <td>             041_phrase_disco_complex_fast_sticks</td>\n",
       "      <td>  892.654</td>\n",
       "      <td> 7.935</td>\n",
       "    </tr>\n",
       "    <tr>\n",
       "      <th>6 </th>\n",
       "      <td>                 042_phrase_rock_simple_slow_rods</td>\n",
       "      <td>  409.683</td>\n",
       "      <td> 2.411</td>\n",
       "    </tr>\n",
       "    <tr>\n",
       "      <th>7 </th>\n",
       "      <td>               043_phrase_rock_simple_medium_rods</td>\n",
       "      <td>  396.352</td>\n",
       "      <td> 3.291</td>\n",
       "    </tr>\n",
       "    <tr>\n",
       "      <th>8 </th>\n",
       "      <td>                 044_phrase_rock_simple_fast_rods</td>\n",
       "      <td>  985.060</td>\n",
       "      <td> 4.104</td>\n",
       "    </tr>\n",
       "    <tr>\n",
       "      <th>9 </th>\n",
       "      <td>                045_phrase_rock_complex_slow_rods</td>\n",
       "      <td>  933.778</td>\n",
       "      <td> 4.471</td>\n",
       "    </tr>\n",
       "    <tr>\n",
       "      <th>10</th>\n",
       "      <td> drummer1.046_phrase_rock_complex_medium_rods.csv</td>\n",
       "      <td> 1720.356</td>\n",
       "      <td> 5.493</td>\n",
       "    </tr>\n",
       "    <tr>\n",
       "      <th>11</th>\n",
       "      <td>                047_phrase_rock_complex_fast_rods</td>\n",
       "      <td> 2720.076</td>\n",
       "      <td> 7.725</td>\n",
       "    </tr>\n",
       "  </tbody>\n",
       "</table>\n",
       "<p>12 rows × 3 columns</p>\n",
       "</div>"
      ],
      "text/plain": [
       "                                          DRUMMER 1   event density  \\\n",
       "0                036_phrase_disco_simple_slow_sticks         20.519   \n",
       "1              037_phrase_disco_simple_medium_sticks         65.881   \n",
       "2                038_phrase_disco_simple_fast_sticks        145.994   \n",
       "3               039_phrase_disco_complex_slow_sticks        289.685   \n",
       "4             040_phrase_disco_complex_medium_sticks        277.883   \n",
       "5               041_phrase_disco_complex_fast_sticks        892.654   \n",
       "6                   042_phrase_rock_simple_slow_rods        409.683   \n",
       "7                 043_phrase_rock_simple_medium_rods        396.352   \n",
       "8                   044_phrase_rock_simple_fast_rods        985.060   \n",
       "9                  045_phrase_rock_complex_slow_rods        933.778   \n",
       "10  drummer1.046_phrase_rock_complex_medium_rods.csv       1720.356   \n",
       "11                 047_phrase_rock_complex_fast_rods       2720.076   \n",
       "\n",
       "    Onsets-beat  \n",
       "0         4.209  \n",
       "1         6.074  \n",
       "2         6.273  \n",
       "3         5.579  \n",
       "4         5.625  \n",
       "5         7.935  \n",
       "6         2.411  \n",
       "7         3.291  \n",
       "8         4.104  \n",
       "9         4.471  \n",
       "10        5.493  \n",
       "11        7.725  \n",
       "\n",
       "[12 rows x 3 columns]"
      ]
     },
     "execution_count": 9,
     "metadata": {},
     "output_type": "execute_result"
    }
   ],
   "source": [
    "data"
   ]
  },
  {
   "cell_type": "code",
   "execution_count": 34,
   "metadata": {
    "collapsed": false
   },
   "outputs": [],
   "source": [
    "datah = pd.DataFrame.from_csv(StringIO)"
   ]
  },
  {
   "cell_type": "code",
   "execution_count": 35,
   "metadata": {
    "collapsed": false
   },
   "outputs": [
    {
     "data": {
      "text/html": [
       "<div style=\"max-height:1000px;max-width:1500px;overflow:auto;\">\n",
       "<table border=\"1\" class=\"dataframe\">\n",
       "  <thead>\n",
       "    <tr style=\"text-align: right;\">\n",
       "      <th></th>\n",
       "      <th>event density</th>\n",
       "      <th>Onsets-beat</th>\n",
       "    </tr>\n",
       "    <tr>\n",
       "      <th>DRUMMER 1 </th>\n",
       "      <th></th>\n",
       "      <th></th>\n",
       "    </tr>\n",
       "  </thead>\n",
       "  <tbody>\n",
       "    <tr>\n",
       "      <th>036_phrase_disco_simple_slow_sticks</th>\n",
       "      <td>   20.519</td>\n",
       "      <td> 4.209</td>\n",
       "    </tr>\n",
       "    <tr>\n",
       "      <th>037_phrase_disco_simple_medium_sticks</th>\n",
       "      <td>   65.881</td>\n",
       "      <td> 6.074</td>\n",
       "    </tr>\n",
       "    <tr>\n",
       "      <th>038_phrase_disco_simple_fast_sticks</th>\n",
       "      <td>  145.994</td>\n",
       "      <td> 6.273</td>\n",
       "    </tr>\n",
       "    <tr>\n",
       "      <th>039_phrase_disco_complex_slow_sticks</th>\n",
       "      <td>  289.685</td>\n",
       "      <td> 5.579</td>\n",
       "    </tr>\n",
       "    <tr>\n",
       "      <th>040_phrase_disco_complex_medium_sticks</th>\n",
       "      <td>  277.883</td>\n",
       "      <td> 5.625</td>\n",
       "    </tr>\n",
       "    <tr>\n",
       "      <th>041_phrase_disco_complex_fast_sticks</th>\n",
       "      <td>  892.654</td>\n",
       "      <td> 7.935</td>\n",
       "    </tr>\n",
       "    <tr>\n",
       "      <th>042_phrase_rock_simple_slow_rods</th>\n",
       "      <td>  409.683</td>\n",
       "      <td> 2.411</td>\n",
       "    </tr>\n",
       "    <tr>\n",
       "      <th>043_phrase_rock_simple_medium_rods</th>\n",
       "      <td>  396.352</td>\n",
       "      <td> 3.291</td>\n",
       "    </tr>\n",
       "    <tr>\n",
       "      <th>044_phrase_rock_simple_fast_rods</th>\n",
       "      <td>  985.060</td>\n",
       "      <td> 4.104</td>\n",
       "    </tr>\n",
       "    <tr>\n",
       "      <th>045_phrase_rock_complex_slow_rods</th>\n",
       "      <td>  933.778</td>\n",
       "      <td> 4.471</td>\n",
       "    </tr>\n",
       "    <tr>\n",
       "      <th>drummer1.046_phrase_rock_complex_medium_rods.csv</th>\n",
       "      <td> 1720.356</td>\n",
       "      <td> 5.493</td>\n",
       "    </tr>\n",
       "    <tr>\n",
       "      <th>047_phrase_rock_complex_fast_rods</th>\n",
       "      <td> 2720.076</td>\n",
       "      <td> 7.725</td>\n",
       "    </tr>\n",
       "  </tbody>\n",
       "</table>\n",
       "<p>12 rows × 2 columns</p>\n",
       "</div>"
      ],
      "text/plain": [
       "                                                  event density  Onsets-beat\n",
       "DRUMMER 1                                                                   \n",
       "036_phrase_disco_simple_slow_sticks                      20.519        4.209\n",
       "037_phrase_disco_simple_medium_sticks                    65.881        6.074\n",
       "038_phrase_disco_simple_fast_sticks                     145.994        6.273\n",
       "039_phrase_disco_complex_slow_sticks                    289.685        5.579\n",
       "040_phrase_disco_complex_medium_sticks                  277.883        5.625\n",
       "041_phrase_disco_complex_fast_sticks                    892.654        7.935\n",
       "042_phrase_rock_simple_slow_rods                        409.683        2.411\n",
       "043_phrase_rock_simple_medium_rods                      396.352        3.291\n",
       "044_phrase_rock_simple_fast_rods                        985.060        4.104\n",
       "045_phrase_rock_complex_slow_rods                       933.778        4.471\n",
       "drummer1.046_phrase_rock_complex_medium_rods.csv       1720.356        5.493\n",
       "047_phrase_rock_complex_fast_rods                      2720.076        7.725\n",
       "\n",
       "[12 rows x 2 columns]"
      ]
     },
     "execution_count": 35,
     "metadata": {},
     "output_type": "execute_result"
    }
   ],
   "source": [
    "datah"
   ]
  },
  {
   "cell_type": "code",
   "execution_count": 39,
   "metadata": {
    "collapsed": false
   },
   "outputs": [
    {
     "data": {
      "text/html": [
       "<div style=\"max-height:1000px;max-width:1500px;overflow:auto;\">\n",
       "<table border=\"1\" class=\"dataframe\">\n",
       "  <thead>\n",
       "    <tr style=\"text-align: right;\">\n",
       "      <th></th>\n",
       "      <th>event density</th>\n",
       "      <th>Onsets-beat</th>\n",
       "    </tr>\n",
       "    <tr>\n",
       "      <th>DRUMMER 1 </th>\n",
       "      <th></th>\n",
       "      <th></th>\n",
       "    </tr>\n",
       "  </thead>\n",
       "  <tbody>\n",
       "    <tr>\n",
       "      <th>036_phrase_disco_simple_slow_sticks</th>\n",
       "      <td>      NaN</td>\n",
       "      <td>      NaN</td>\n",
       "    </tr>\n",
       "    <tr>\n",
       "      <th>037_phrase_disco_simple_medium_sticks</th>\n",
       "      <td> 2.210732</td>\n",
       "      <td> 0.443098</td>\n",
       "    </tr>\n",
       "    <tr>\n",
       "      <th>038_phrase_disco_simple_fast_sticks</th>\n",
       "      <td> 1.216026</td>\n",
       "      <td> 0.032763</td>\n",
       "    </tr>\n",
       "    <tr>\n",
       "      <th>039_phrase_disco_complex_slow_sticks</th>\n",
       "      <td> 0.984225</td>\n",
       "      <td>-0.110633</td>\n",
       "    </tr>\n",
       "    <tr>\n",
       "      <th>040_phrase_disco_complex_medium_sticks</th>\n",
       "      <td>-0.040741</td>\n",
       "      <td> 0.008245</td>\n",
       "    </tr>\n",
       "    <tr>\n",
       "      <th>041_phrase_disco_complex_fast_sticks</th>\n",
       "      <td> 2.212338</td>\n",
       "      <td> 0.410667</td>\n",
       "    </tr>\n",
       "    <tr>\n",
       "      <th>042_phrase_rock_simple_slow_rods</th>\n",
       "      <td>-0.541051</td>\n",
       "      <td>-0.696156</td>\n",
       "    </tr>\n",
       "    <tr>\n",
       "      <th>043_phrase_rock_simple_medium_rods</th>\n",
       "      <td>-0.032540</td>\n",
       "      <td> 0.364994</td>\n",
       "    </tr>\n",
       "    <tr>\n",
       "      <th>044_phrase_rock_simple_fast_rods</th>\n",
       "      <td> 1.485316</td>\n",
       "      <td> 0.247037</td>\n",
       "    </tr>\n",
       "    <tr>\n",
       "      <th>045_phrase_rock_complex_slow_rods</th>\n",
       "      <td>-0.052060</td>\n",
       "      <td> 0.089425</td>\n",
       "    </tr>\n",
       "    <tr>\n",
       "      <th>drummer1.046_phrase_rock_complex_medium_rods.csv</th>\n",
       "      <td> 0.842361</td>\n",
       "      <td> 0.228584</td>\n",
       "    </tr>\n",
       "    <tr>\n",
       "      <th>047_phrase_rock_complex_fast_rods</th>\n",
       "      <td> 0.581112</td>\n",
       "      <td> 0.406335</td>\n",
       "    </tr>\n",
       "  </tbody>\n",
       "</table>\n",
       "<p>12 rows × 2 columns</p>\n",
       "</div>"
      ],
      "text/plain": [
       "                                                  event density  Onsets-beat\n",
       "DRUMMER 1                                                                   \n",
       "036_phrase_disco_simple_slow_sticks                         NaN          NaN\n",
       "037_phrase_disco_simple_medium_sticks                  2.210732     0.443098\n",
       "038_phrase_disco_simple_fast_sticks                    1.216026     0.032763\n",
       "039_phrase_disco_complex_slow_sticks                   0.984225    -0.110633\n",
       "040_phrase_disco_complex_medium_sticks                -0.040741     0.008245\n",
       "041_phrase_disco_complex_fast_sticks                   2.212338     0.410667\n",
       "042_phrase_rock_simple_slow_rods                      -0.541051    -0.696156\n",
       "043_phrase_rock_simple_medium_rods                    -0.032540     0.364994\n",
       "044_phrase_rock_simple_fast_rods                       1.485316     0.247037\n",
       "045_phrase_rock_complex_slow_rods                     -0.052060     0.089425\n",
       "drummer1.046_phrase_rock_complex_medium_rods.csv       0.842361     0.228584\n",
       "047_phrase_rock_complex_fast_rods                      0.581112     0.406335\n",
       "\n",
       "[12 rows x 2 columns]"
      ]
     },
     "execution_count": 39,
     "metadata": {},
     "output_type": "execute_result"
    }
   ],
   "source": [
    "datah.pct_change()"
   ]
  },
  {
   "cell_type": "code",
   "execution_count": 47,
   "metadata": {
    "collapsed": false
   },
   "outputs": [
    {
     "data": {
      "text/plain": [
       "[<matplotlib.lines.Line2D at 0xae05ebac>,\n",
       " <matplotlib.lines.Line2D at 0xae05ed4c>]"
      ]
     },
     "execution_count": 47,
     "metadata": {},
     "output_type": "execute_result"
    },
    {
     "data": {
      "image/png": "[encoded data removed]",
      "text/plain": [
       "<matplotlib.figure.Figure at 0xae17a22c>"
      ]
     },
     "metadata": {},
     "output_type": "display_data"
    }
   ],
   "source": [
    "fig = plt.figure()\n",
    "plt.plot(data)"
   ]
  },
  {
   "cell_type": "code",
   "execution_count": null,
   "metadata": {
    "collapsed": true
   },
   "outputs": [],
   "source": []
  }
 ],
 "metadata": {
  "kernelspec": {
   "display_name": "Python 2",
   "language": "python",
   "name": "python2"
  },
  "language_info": {
   "codemirror_mode": {
    "name": "ipython",
    "version": 2
   },
   "file_extension": ".py",
   "mimetype": "text/x-python",
   "name": "python",
   "nbconvert_exporter": "python",
   "pygments_lexer": "ipython2",
   "version": "2.7.6"
  }
 },
 "nbformat": 4,
 "nbformat_minor": 2
}
